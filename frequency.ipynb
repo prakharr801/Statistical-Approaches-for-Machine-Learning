{
 "cells": [
  {
   "cell_type": "code",
   "execution_count": 5,
   "id": "759e5c3b-6b7c-4d44-8dc8-4cc003172626",
   "metadata": {},
   "outputs": [
    {
     "name": "stdout",
     "output_type": "stream",
     "text": [
      "{1: 4, 2: 3, 3: 2, 4: 4, 5: 1}\n"
     ]
    }
   ],
   "source": [
    "input_list = [1,1,1,1,2,3,4,2,2,3,4,5,4,4]\n",
    "\n",
    "def counter(input_list):\n",
    "    freq={}\n",
    "    for i in input_list:\n",
    "        freq[i]=freq.get(i,0)+1\n",
    "    return freq\n",
    "\n",
    "# print(counter([1,1,1,1,2,3,4,2,2,3,4,5,4,4]))\n",
    "# print(counter(['a','p','p','l','e']))\n",
    "print(counter(input_list))"
   ]
  },
  {
   "cell_type": "code",
   "execution_count": 1,
   "id": "4b8751c8-d430-4eda-ae68-ffd91c542803",
   "metadata": {},
   "outputs": [
    {
     "name": "stdout",
     "output_type": "stream",
     "text": [
      "45\n"
     ]
    }
   ],
   "source": [
    "data = [19,34,56,43,76,45,98]\n",
    "def median(data):\n",
    "    data.sort()\n",
    "    n=len(data)\n",
    "    if n%2==1:\n",
    "        return data[n//2]\n",
    "    else:\n",
    "        a=[n//2-1]\n",
    "        b=[n//2]\n",
    "        return(a+b)/2\n",
    "print(median(data))\n",
    "    \n",
    "    \n"
   ]
  },
  {
   "cell_type": "code",
   "execution_count": 35,
   "id": "55ca2e75-ef8a-45ce-a1ba-205b82444e36",
   "metadata": {},
   "outputs": [
    {
     "name": "stdout",
     "output_type": "stream",
     "text": [
      "mode: 4 4\n"
     ]
    }
   ],
   "source": [
    "from statistics import mode,median\n",
    "data = [1,2,3,4,3,4,6,7,4]\n",
    "print('mode:',mode(data),median(data))"
   ]
  },
  {
   "cell_type": "code",
   "execution_count": 37,
   "id": "bfd31d9a-74df-45a2-99d2-787dcea32116",
   "metadata": {},
   "outputs": [
    {
     "name": "stdout",
     "output_type": "stream",
     "text": [
      "45\n"
     ]
    }
   ],
   "source": [
    "from statistics import median\n",
    "data = [19,34,56,43,76,45,98]\n",
    "print(median(data))"
   ]
  },
  {
   "cell_type": "code",
   "execution_count": null,
   "id": "009d6e0d-1d78-491a-873f-4dc0b5667e7d",
   "metadata": {},
   "outputs": [],
   "source": []
  }
 ],
 "metadata": {
  "kernelspec": {
   "display_name": "Python [conda env:base] *",
   "language": "python",
   "name": "conda-base-py"
  },
  "language_info": {
   "codemirror_mode": {
    "name": "ipython",
    "version": 3
   },
   "file_extension": ".py",
   "mimetype": "text/x-python",
   "name": "python",
   "nbconvert_exporter": "python",
   "pygments_lexer": "ipython3",
   "version": "3.12.7"
  }
 },
 "nbformat": 4,
 "nbformat_minor": 5
}
