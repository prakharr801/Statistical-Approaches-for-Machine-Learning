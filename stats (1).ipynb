{
 "cells": [
  {
   "cell_type": "code",
   "execution_count": null,
   "id": "d2bd8ce0-5a69-40b9-8724-1c288d248075",
   "metadata": {},
   "outputs": [],
   "source": [
    "dataset = [10,20,30,40,50]\n",
    "dataset.sort\n",
    "n=len(dataset)\n",
    "if n%2==0:\n",
    "    median=(dataset[n//2]+dataset[n//2-1])/2\n",
    "else:\n",
    "    median=dataset[n//2]\n",
    "print(median)"
   ]
  },
  {
   "cell_type": "code",
   "execution_count": null,
   "id": "790bb370-380a-4d45-a6e8-ee63bc5f80d0",
   "metadata": {},
   "outputs": [],
   "source": [
    "number = [1,2,3,4,5,6,7,5,4,7,8,6,33,6]\n",
    "from statistics import mean,median,mode\n",
    "\n",
    "most_common = mode(number)\n",
    "most_common = mean(number)\n",
    "most_common = median(number)\n",
    "#print(most_common)\n",
    "print(most_common)"
   ]
  },
  {
   "cell_type": "code",
   "execution_count": null,
   "id": "a3283a33-fa4a-4316-a4dc-55bea8ced66b",
   "metadata": {},
   "outputs": [],
   "source": []
  }
 ],
 "metadata": {
  "kernelspec": {
   "display_name": "Python [conda env:base] *",
   "language": "python",
   "name": "conda-base-py"
  },
  "language_info": {
   "codemirror_mode": {
    "name": "ipython",
    "version": 3
   },
   "file_extension": ".py",
   "mimetype": "text/x-python",
   "name": "python",
   "nbconvert_exporter": "python",
   "pygments_lexer": "ipython3",
   "version": "3.12.7"
  }
 },
 "nbformat": 4,
 "nbformat_minor": 5
}
